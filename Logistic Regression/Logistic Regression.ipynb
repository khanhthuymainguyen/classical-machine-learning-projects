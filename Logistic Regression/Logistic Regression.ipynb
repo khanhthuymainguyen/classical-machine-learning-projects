{
 "cells": [
  {
   "cell_type": "code",
   "execution_count": 1,
   "metadata": {},
   "outputs": [],
   "source": [
    "import numpy as np\n",
    "import pandas as pd\n",
    "import matplotlib.pyplot as plt\n",
    "from statsmodels.formula.api import ols"
   ]
  },
  {
   "cell_type": "code",
   "execution_count": 2,
   "metadata": {},
   "outputs": [],
   "source": [
    "df = pd.read_csv('custdata.csv')"
   ]
  },
  {
   "cell_type": "code",
   "execution_count": 3,
   "metadata": {},
   "outputs": [
    {
     "name": "stdout",
     "output_type": "stream",
     "text": [
      "<class 'pandas.core.frame.DataFrame'>\n",
      "RangeIndex: 1000 entries, 0 to 999\n",
      "Data columns (total 11 columns):\n",
      "custid          1000 non-null int64\n",
      "sex             1000 non-null object\n",
      "is.employed     672 non-null object\n",
      "income          1000 non-null int64\n",
      "marital.stat    1000 non-null object\n",
      "health.ins      1000 non-null bool\n",
      "housing.type    944 non-null object\n",
      "recent.move     944 non-null object\n",
      "num.vehicles    944 non-null float64\n",
      "age             1000 non-null float64\n",
      "state.of.res    1000 non-null object\n",
      "dtypes: bool(1), float64(2), int64(2), object(6)\n",
      "memory usage: 79.2+ KB\n"
     ]
    }
   ],
   "source": [
    "df.info()"
   ]
  },
  {
   "cell_type": "code",
   "execution_count": 4,
   "metadata": {},
   "outputs": [
    {
     "data": {
      "text/html": [
       "<div>\n",
       "<style scoped>\n",
       "    .dataframe tbody tr th:only-of-type {\n",
       "        vertical-align: middle;\n",
       "    }\n",
       "\n",
       "    .dataframe tbody tr th {\n",
       "        vertical-align: top;\n",
       "    }\n",
       "\n",
       "    .dataframe thead th {\n",
       "        text-align: right;\n",
       "    }\n",
       "</style>\n",
       "<table border=\"1\" class=\"dataframe\">\n",
       "  <thead>\n",
       "    <tr style=\"text-align: right;\">\n",
       "      <th></th>\n",
       "      <th>custid</th>\n",
       "      <th>sex</th>\n",
       "      <th>is.employed</th>\n",
       "      <th>income</th>\n",
       "      <th>marital.stat</th>\n",
       "      <th>health.ins</th>\n",
       "      <th>housing.type</th>\n",
       "      <th>recent.move</th>\n",
       "      <th>num.vehicles</th>\n",
       "      <th>age</th>\n",
       "      <th>state.of.res</th>\n",
       "    </tr>\n",
       "  </thead>\n",
       "  <tbody>\n",
       "    <tr>\n",
       "      <th>0</th>\n",
       "      <td>2068</td>\n",
       "      <td>F</td>\n",
       "      <td>NaN</td>\n",
       "      <td>11300</td>\n",
       "      <td>Married</td>\n",
       "      <td>True</td>\n",
       "      <td>Homeowner free and clear</td>\n",
       "      <td>False</td>\n",
       "      <td>2.0</td>\n",
       "      <td>49.0</td>\n",
       "      <td>Michigan</td>\n",
       "    </tr>\n",
       "    <tr>\n",
       "      <th>1</th>\n",
       "      <td>2073</td>\n",
       "      <td>F</td>\n",
       "      <td>NaN</td>\n",
       "      <td>0</td>\n",
       "      <td>Married</td>\n",
       "      <td>True</td>\n",
       "      <td>Rented</td>\n",
       "      <td>True</td>\n",
       "      <td>3.0</td>\n",
       "      <td>40.0</td>\n",
       "      <td>Florida</td>\n",
       "    </tr>\n",
       "    <tr>\n",
       "      <th>2</th>\n",
       "      <td>2848</td>\n",
       "      <td>M</td>\n",
       "      <td>True</td>\n",
       "      <td>4500</td>\n",
       "      <td>Never Married</td>\n",
       "      <td>False</td>\n",
       "      <td>Rented</td>\n",
       "      <td>True</td>\n",
       "      <td>3.0</td>\n",
       "      <td>22.0</td>\n",
       "      <td>Georgia</td>\n",
       "    </tr>\n",
       "    <tr>\n",
       "      <th>3</th>\n",
       "      <td>5641</td>\n",
       "      <td>M</td>\n",
       "      <td>True</td>\n",
       "      <td>20000</td>\n",
       "      <td>Never Married</td>\n",
       "      <td>False</td>\n",
       "      <td>Occupied with no rent</td>\n",
       "      <td>False</td>\n",
       "      <td>0.0</td>\n",
       "      <td>22.0</td>\n",
       "      <td>New Mexico</td>\n",
       "    </tr>\n",
       "    <tr>\n",
       "      <th>4</th>\n",
       "      <td>6369</td>\n",
       "      <td>F</td>\n",
       "      <td>True</td>\n",
       "      <td>12000</td>\n",
       "      <td>Never Married</td>\n",
       "      <td>True</td>\n",
       "      <td>Rented</td>\n",
       "      <td>True</td>\n",
       "      <td>1.0</td>\n",
       "      <td>31.0</td>\n",
       "      <td>Florida</td>\n",
       "    </tr>\n",
       "    <tr>\n",
       "      <th>5</th>\n",
       "      <td>8322</td>\n",
       "      <td>F</td>\n",
       "      <td>True</td>\n",
       "      <td>180000</td>\n",
       "      <td>Never Married</td>\n",
       "      <td>True</td>\n",
       "      <td>Homeowner with mortgage/loan</td>\n",
       "      <td>False</td>\n",
       "      <td>1.0</td>\n",
       "      <td>40.0</td>\n",
       "      <td>New York</td>\n",
       "    </tr>\n",
       "    <tr>\n",
       "      <th>6</th>\n",
       "      <td>8521</td>\n",
       "      <td>M</td>\n",
       "      <td>True</td>\n",
       "      <td>120000</td>\n",
       "      <td>Never Married</td>\n",
       "      <td>True</td>\n",
       "      <td>Homeowner free and clear</td>\n",
       "      <td>True</td>\n",
       "      <td>1.0</td>\n",
       "      <td>39.0</td>\n",
       "      <td>Idaho</td>\n",
       "    </tr>\n",
       "    <tr>\n",
       "      <th>7</th>\n",
       "      <td>12195</td>\n",
       "      <td>M</td>\n",
       "      <td>True</td>\n",
       "      <td>40000</td>\n",
       "      <td>Married</td>\n",
       "      <td>True</td>\n",
       "      <td>Rented</td>\n",
       "      <td>False</td>\n",
       "      <td>3.0</td>\n",
       "      <td>48.0</td>\n",
       "      <td>Michigan</td>\n",
       "    </tr>\n",
       "    <tr>\n",
       "      <th>8</th>\n",
       "      <td>14989</td>\n",
       "      <td>M</td>\n",
       "      <td>NaN</td>\n",
       "      <td>9400</td>\n",
       "      <td>Married</td>\n",
       "      <td>True</td>\n",
       "      <td>Rented</td>\n",
       "      <td>False</td>\n",
       "      <td>2.0</td>\n",
       "      <td>44.0</td>\n",
       "      <td>Illinois</td>\n",
       "    </tr>\n",
       "    <tr>\n",
       "      <th>9</th>\n",
       "      <td>15917</td>\n",
       "      <td>F</td>\n",
       "      <td>True</td>\n",
       "      <td>24000</td>\n",
       "      <td>Divorced/Separated</td>\n",
       "      <td>True</td>\n",
       "      <td>Homeowner free and clear</td>\n",
       "      <td>False</td>\n",
       "      <td>1.0</td>\n",
       "      <td>70.0</td>\n",
       "      <td>North Carolina</td>\n",
       "    </tr>\n",
       "  </tbody>\n",
       "</table>\n",
       "</div>"
      ],
      "text/plain": [
       "   custid sex is.employed  income        marital.stat  health.ins  \\\n",
       "0    2068   F         NaN   11300             Married        True   \n",
       "1    2073   F         NaN       0             Married        True   \n",
       "2    2848   M        True    4500       Never Married       False   \n",
       "3    5641   M        True   20000       Never Married       False   \n",
       "4    6369   F        True   12000       Never Married        True   \n",
       "5    8322   F        True  180000       Never Married        True   \n",
       "6    8521   M        True  120000       Never Married        True   \n",
       "7   12195   M        True   40000             Married        True   \n",
       "8   14989   M         NaN    9400             Married        True   \n",
       "9   15917   F        True   24000  Divorced/Separated        True   \n",
       "\n",
       "                   housing.type recent.move  num.vehicles   age  \\\n",
       "0      Homeowner free and clear       False           2.0  49.0   \n",
       "1                        Rented        True           3.0  40.0   \n",
       "2                        Rented        True           3.0  22.0   \n",
       "3         Occupied with no rent       False           0.0  22.0   \n",
       "4                        Rented        True           1.0  31.0   \n",
       "5  Homeowner with mortgage/loan       False           1.0  40.0   \n",
       "6      Homeowner free and clear        True           1.0  39.0   \n",
       "7                        Rented       False           3.0  48.0   \n",
       "8                        Rented       False           2.0  44.0   \n",
       "9      Homeowner free and clear       False           1.0  70.0   \n",
       "\n",
       "     state.of.res  \n",
       "0        Michigan  \n",
       "1         Florida  \n",
       "2         Georgia  \n",
       "3      New Mexico  \n",
       "4         Florida  \n",
       "5        New York  \n",
       "6           Idaho  \n",
       "7        Michigan  \n",
       "8        Illinois  \n",
       "9  North Carolina  "
      ]
     },
     "execution_count": 4,
     "metadata": {},
     "output_type": "execute_result"
    }
   ],
   "source": [
    "df.head(10)"
   ]
  },
  {
   "cell_type": "code",
   "execution_count": 5,
   "metadata": {},
   "outputs": [
    {
     "name": "stderr",
     "output_type": "stream",
     "text": [
      "C:\\Users\\maikh\\Anaconda3\\lib\\site-packages\\ipykernel_launcher.py:8: SettingWithCopyWarning: \n",
      "A value is trying to be set on a copy of a slice from a DataFrame\n",
      "\n",
      "See the caveats in the documentation: http://pandas.pydata.org/pandas-docs/stable/indexing.html#indexing-view-versus-copy\n",
      "  \n"
     ]
    }
   ],
   "source": [
    "# Cleaning and preparation\n",
    "df['is.employed'].fillna(value = 'Unknown', inplace = True)\n",
    "df = df[df['housing.type'].notnull()]\n",
    "df = df[(df['age'] > 0) & (df['age'] < 99)]\n",
    "\n",
    "# Convert target to 1 and 0\n",
    "df['health_ins_num'] = 1\n",
    "df['health_ins_num'][~df['health.ins']] = 0\n",
    "df.drop('health.ins',axis = 1, inplace = True)"
   ]
  },
  {
   "cell_type": "code",
   "execution_count": 6,
   "metadata": {},
   "outputs": [
    {
     "data": {
      "text/plain": [
       "1    796\n",
       "0    137\n",
       "Name: health_ins_num, dtype: int64"
      ]
     },
     "execution_count": 6,
     "metadata": {},
     "output_type": "execute_result"
    }
   ],
   "source": [
    "df['health_ins_num'].value_counts()"
   ]
  },
  {
   "cell_type": "code",
   "execution_count": 7,
   "metadata": {},
   "outputs": [
    {
     "name": "stdout",
     "output_type": "stream",
     "text": [
      "<class 'pandas.core.frame.DataFrame'>\n",
      "Int64Index: 933 entries, 0 to 999\n",
      "Data columns (total 11 columns):\n",
      "custid            933 non-null int64\n",
      "sex               933 non-null object\n",
      "is.employed       933 non-null object\n",
      "income            933 non-null int64\n",
      "marital.stat      933 non-null object\n",
      "housing.type      933 non-null object\n",
      "recent.move       933 non-null object\n",
      "num.vehicles      933 non-null float64\n",
      "age               933 non-null float64\n",
      "state.of.res      933 non-null object\n",
      "health_ins_num    933 non-null int64\n",
      "dtypes: float64(2), int64(3), object(6)\n",
      "memory usage: 87.5+ KB\n"
     ]
    }
   ],
   "source": [
    "df.info()"
   ]
  },
  {
   "cell_type": "markdown",
   "metadata": {},
   "source": [
    "## First logistics model"
   ]
  },
  {
   "cell_type": "code",
   "execution_count": 8,
   "metadata": {},
   "outputs": [],
   "source": [
    "x = df[['age','income']]\n",
    "from sklearn.model_selection import train_test_split\n",
    "x_train, x_test, y_train, y_test = train_test_split(x,df['health_ins_num'],\n",
    "                                                    test_size = 0.4,\n",
    "                                                   random_state = 10)"
   ]
  },
  {
   "cell_type": "code",
   "execution_count": 9,
   "metadata": {},
   "outputs": [
    {
     "name": "stderr",
     "output_type": "stream",
     "text": [
      "C:\\Users\\maikh\\Anaconda3\\lib\\site-packages\\sklearn\\linear_model\\logistic.py:432: FutureWarning: Default solver will be changed to 'lbfgs' in 0.22. Specify a solver to silence this warning.\n",
      "  FutureWarning)\n"
     ]
    },
    {
     "data": {
      "text/plain": [
       "LogisticRegression(C=1.0, class_weight=None, dual=False, fit_intercept=True,\n",
       "                   intercept_scaling=1, l1_ratio=None, max_iter=100,\n",
       "                   multi_class='warn', n_jobs=None, penalty='l2',\n",
       "                   random_state=None, solver='warn', tol=0.0001, verbose=0,\n",
       "                   warm_start=False)"
      ]
     },
     "execution_count": 9,
     "metadata": {},
     "output_type": "execute_result"
    }
   ],
   "source": [
    "from sklearn.linear_model import LogisticRegression\n",
    "logmodel = LogisticRegression()\n",
    "logmodel.fit(x_train, y_train)"
   ]
  },
  {
   "cell_type": "code",
   "execution_count": 10,
   "metadata": {},
   "outputs": [
    {
     "data": {
      "text/plain": [
       "array([0.91992978, 0.84432437, 0.84767052, 0.97034289, 0.94808297])"
      ]
     },
     "execution_count": 10,
     "metadata": {},
     "output_type": "execute_result"
    }
   ],
   "source": [
    "# Evaluation\n",
    "p_predict = logmodel.predict_proba(x_test)[:,1]\n",
    "p_predict[:5]"
   ]
  },
  {
   "cell_type": "code",
   "execution_count": 11,
   "metadata": {},
   "outputs": [
    {
     "data": {
      "text/plain": [
       "array([0.00017679])"
      ]
     },
     "execution_count": 11,
     "metadata": {},
     "output_type": "execute_result"
    }
   ],
   "source": [
    "logmodel.intercept_"
   ]
  },
  {
   "cell_type": "code",
   "execution_count": 12,
   "metadata": {},
   "outputs": [
    {
     "data": {
      "text/plain": [
       "array([[2.25632638e-02, 1.56035781e-05]])"
      ]
     },
     "execution_count": 12,
     "metadata": {},
     "output_type": "execute_result"
    }
   ],
   "source": [
    "logmodel.coef_"
   ]
  },
  {
   "cell_type": "code",
   "execution_count": 13,
   "metadata": {},
   "outputs": [
    {
     "data": {
      "text/html": [
       "<div>\n",
       "<style scoped>\n",
       "    .dataframe tbody tr th:only-of-type {\n",
       "        vertical-align: middle;\n",
       "    }\n",
       "\n",
       "    .dataframe tbody tr th {\n",
       "        vertical-align: top;\n",
       "    }\n",
       "\n",
       "    .dataframe thead th {\n",
       "        text-align: right;\n",
       "    }\n",
       "</style>\n",
       "<table border=\"1\" class=\"dataframe\">\n",
       "  <thead>\n",
       "    <tr style=\"text-align: right;\">\n",
       "      <th></th>\n",
       "      <th>age</th>\n",
       "      <th>income</th>\n",
       "    </tr>\n",
       "  </thead>\n",
       "  <tbody>\n",
       "    <tr>\n",
       "      <th>577</th>\n",
       "      <td>75.0</td>\n",
       "      <td>48000</td>\n",
       "    </tr>\n",
       "    <tr>\n",
       "      <th>323</th>\n",
       "      <td>64.0</td>\n",
       "      <td>15800</td>\n",
       "    </tr>\n",
       "    <tr>\n",
       "      <th>197</th>\n",
       "      <td>65.0</td>\n",
       "      <td>16000</td>\n",
       "    </tr>\n",
       "  </tbody>\n",
       "</table>\n",
       "</div>"
      ],
      "text/plain": [
       "      age  income\n",
       "577  75.0   48000\n",
       "323  64.0   15800\n",
       "197  65.0   16000"
      ]
     },
     "execution_count": 13,
     "metadata": {},
     "output_type": "execute_result"
    }
   ],
   "source": [
    "x_test.head(3)"
   ]
  },
  {
   "cell_type": "code",
   "execution_count": 14,
   "metadata": {},
   "outputs": [
    {
     "data": {
      "text/plain": [
       "array([0.91502748])"
      ]
     },
     "execution_count": 14,
     "metadata": {},
     "output_type": "execute_result"
    }
   ],
   "source": [
    "# New customer: Age = 50, Income = 80k\n",
    "new_customer = pd.DataFrame({'age': [50], 'income':[80000]})\n",
    "logmodel.predict_proba(new_customer)[:,1]  # Predict probability"
   ]
  },
  {
   "cell_type": "code",
   "execution_count": 15,
   "metadata": {},
   "outputs": [
    {
     "data": {
      "text/plain": [
       "array([1], dtype=int64)"
      ]
     },
     "execution_count": 15,
     "metadata": {},
     "output_type": "execute_result"
    }
   ],
   "source": [
    "# Predict classification\n",
    "logmodel.predict(new_customer)  # value 1"
   ]
  },
  {
   "cell_type": "code",
   "execution_count": 16,
   "metadata": {},
   "outputs": [
    {
     "data": {
      "text/plain": [
       "[1, 1, 1, 1, 1, 1, 1, 1, 1, 1, 1, 1, 1, 1, 1, 1, 1, 1, 1, 1]"
      ]
     },
     "execution_count": 16,
     "metadata": {},
     "output_type": "execute_result"
    }
   ],
   "source": [
    "# Manual classification\n",
    "p_predict = logmodel.predict_proba(x_test)[:,1]\n",
    "predictions = [1 if v > 0.5 else 0 for v in p_predict]\n",
    "predictions[:20]"
   ]
  },
  {
   "cell_type": "code",
   "execution_count": 17,
   "metadata": {},
   "outputs": [],
   "source": [
    "# Evaluation\n",
    "from sklearn.metrics import confusion_matrix\n",
    "confusion = confusion_matrix(y_test, predictions)"
   ]
  },
  {
   "cell_type": "code",
   "execution_count": 18,
   "metadata": {},
   "outputs": [
    {
     "data": {
      "text/plain": [
       "array([[  0,  45],\n",
       "       [  0, 329]], dtype=int64)"
      ]
     },
     "execution_count": 18,
     "metadata": {},
     "output_type": "execute_result"
    }
   ],
   "source": [
    "confusion"
   ]
  },
  {
   "cell_type": "code",
   "execution_count": 19,
   "metadata": {},
   "outputs": [
    {
     "name": "stdout",
     "output_type": "stream",
     "text": [
      "Accuracy: 0.88\n",
      "Recall: 1.00\n",
      "Accuracy: 0.88\n"
     ]
    }
   ],
   "source": [
    "# Precision\n",
    "from sklearn.metrics import accuracy_score, precision_score, recall_score# 264/(264+17)\n",
    "print('Accuracy: {:.2f}'.format(precision_score(y_test, predictions)))\n",
    "print('Recall: {:.2f}'.format(recall_score(y_test, predictions)))\n",
    "print('Accuracy: {:.2f}'.format(accuracy_score(y_test, predictions)))\n"
   ]
  },
  {
   "cell_type": "code",
   "execution_count": 20,
   "metadata": {},
   "outputs": [
    {
     "data": {
      "text/plain": [
       "<matplotlib.legend.Legend at 0x1d172234ba8>"
      ]
     },
     "execution_count": 20,
     "metadata": {},
     "output_type": "execute_result"
    },
    {
     "data": {
      "image/png": "[encoded data removed]",
      "text/plain": [
       "<Figure size 432x288 with 1 Axes>"
      ]
     },
     "metadata": {
      "needs_background": "light"
     },
     "output_type": "display_data"
    }
   ],
   "source": [
    "# ROC: Receiving Operation Curve\n",
    "from sklearn.metrics import roc_curve, auc\n",
    "import matplotlib.pyplot as plt\n",
    "\n",
    "y_score = logmodel.decision_function(x_test)\n",
    "fpr, tpr, _ = roc_curve(y_test, y_score)\n",
    "auc = auc(fpr, tpr)\n",
    "\n",
    "plt.figure()\n",
    "plt.plot(fpr, tpr, lw = 3, label = \"ROC, area = {:0.2f}\".format(auc))\n",
    "plt.legend()"
   ]
  },
  {
   "cell_type": "markdown",
   "metadata": {
    "scrolled": true
   },
   "source": [
    "## Second logistics model "
   ]
  },
  {
   "cell_type": "code",
   "execution_count": 21,
   "metadata": {},
   "outputs": [
    {
     "name": "stdout",
     "output_type": "stream",
     "text": [
      "<class 'pandas.core.frame.DataFrame'>\n",
      "Int64Index: 933 entries, 0 to 999\n",
      "Data columns (total 11 columns):\n",
      "custid            933 non-null int64\n",
      "sex               933 non-null object\n",
      "is.employed       933 non-null object\n",
      "income            933 non-null int64\n",
      "marital.stat      933 non-null object\n",
      "housing.type      933 non-null object\n",
      "recent.move       933 non-null object\n",
      "num.vehicles      933 non-null float64\n",
      "age               933 non-null float64\n",
      "state.of.res      933 non-null object\n",
      "health_ins_num    933 non-null int64\n",
      "dtypes: float64(2), int64(3), object(6)\n",
      "memory usage: 87.5+ KB\n"
     ]
    }
   ],
   "source": [
    "df.info()"
   ]
  },
  {
   "cell_type": "code",
   "execution_count": 22,
   "metadata": {},
   "outputs": [
    {
     "name": "stdout",
     "output_type": "stream",
     "text": [
      "<class 'pandas.core.frame.DataFrame'>\n",
      "Int64Index: 933 entries, 0 to 999\n",
      "Data columns (total 9 columns):\n",
      "income                          933 non-null int64\n",
      "age                             933 non-null float64\n",
      "M                               933 non-null uint8\n",
      "Homeowner with mortgage/loan    933 non-null uint8\n",
      "Occupied with no rent           933 non-null uint8\n",
      "Rented                          933 non-null uint8\n",
      "Married                         933 non-null uint8\n",
      "Never Married                   933 non-null uint8\n",
      "Widowed                         933 non-null uint8\n",
      "dtypes: float64(1), int64(1), uint8(7)\n",
      "memory usage: 28.2 KB\n"
     ]
    }
   ],
   "source": [
    "sex_dummy = pd.get_dummies(df['sex'], drop_first = True)\n",
    "housing_dummy = pd.get_dummies(df['housing.type'], drop_first = True)\n",
    "marital_dummy = pd.get_dummies(df['marital.stat'], drop_first = True)\n",
    "\n",
    "x = df.drop(['custid','health_ins_num','sex','housing.type','is.employed',\n",
    "             'marital.stat','recent.move','num.vehicles',\n",
    "            'state.of.res'], axis = 1)\n",
    "x = pd.concat([x,sex_dummy, housing_dummy, marital_dummy],axis=1)\n",
    "x.info()"
   ]
  },
  {
   "cell_type": "code",
   "execution_count": 23,
   "metadata": {},
   "outputs": [],
   "source": [
    "x_train, x_test, y_train, y_test = train_test_split(x,df['health_ins_num'],\n",
    "                                                    test_size = 0.4,\n",
    "                                                   random_state = 10)"
   ]
  },
  {
   "cell_type": "code",
   "execution_count": 24,
   "metadata": {},
   "outputs": [
    {
     "name": "stderr",
     "output_type": "stream",
     "text": [
      "C:\\Users\\maikh\\Anaconda3\\lib\\site-packages\\sklearn\\linear_model\\logistic.py:432: FutureWarning: Default solver will be changed to 'lbfgs' in 0.22. Specify a solver to silence this warning.\n",
      "  FutureWarning)\n"
     ]
    },
    {
     "data": {
      "text/plain": [
       "LogisticRegression(C=1.0, class_weight=None, dual=False, fit_intercept=True,\n",
       "                   intercept_scaling=1, l1_ratio=None, max_iter=100,\n",
       "                   multi_class='warn', n_jobs=None, penalty='l2',\n",
       "                   random_state=None, solver='warn', tol=0.0001, verbose=0,\n",
       "                   warm_start=False)"
      ]
     },
     "execution_count": 24,
     "metadata": {},
     "output_type": "execute_result"
    }
   ],
   "source": [
    "logmodel = LogisticRegression()\n",
    "logmodel.fit(x_train, y_train)"
   ]
  },
  {
   "cell_type": "code",
   "execution_count": 25,
   "metadata": {},
   "outputs": [],
   "source": [
    "p_predict = logmodel.predict_proba(x_test)[:,1]\n",
    "predictions = [1 if v > 0.8 else 0 for v in p_predict]"
   ]
  },
  {
   "cell_type": "code",
   "execution_count": 26,
   "metadata": {},
   "outputs": [
    {
     "data": {
      "text/plain": [
       "array([[ 28,  17],\n",
       "       [ 64, 265]], dtype=int64)"
      ]
     },
     "execution_count": 26,
     "metadata": {},
     "output_type": "execute_result"
    }
   ],
   "source": [
    "confusion = confusion_matrix(y_test, predictions)\n",
    "confusion"
   ]
  },
  {
   "cell_type": "code",
   "execution_count": 27,
   "metadata": {},
   "outputs": [
    {
     "name": "stdout",
     "output_type": "stream",
     "text": [
      "Accuracy: 0.94\n",
      "Recall: 0.81\n",
      "Accuracy: 0.78\n"
     ]
    }
   ],
   "source": [
    "# Precision\n",
    "from sklearn.metrics import accuracy_score, precision_score, recall_score# 264/(264+17)\n",
    "print('Accuracy: {:.2f}'.format(precision_score(y_test, predictions)))\n",
    "print('Recall: {:.2f}'.format(recall_score(y_test, predictions)))\n",
    "print('Accuracy: {:.2f}'.format(accuracy_score(y_test, predictions)))\n"
   ]
  },
  {
   "cell_type": "code",
   "execution_count": 28,
   "metadata": {},
   "outputs": [
    {
     "data": {
      "text/plain": [
       "<matplotlib.legend.Legend at 0x1d1722b1978>"
      ]
     },
     "execution_count": 28,
     "metadata": {},
     "output_type": "execute_result"
    },
    {
     "data": {
      "image/png": "[encoded data removed]",
      "text/plain": [
       "<Figure size 432x288 with 1 Axes>"
      ]
     },
     "metadata": {
      "needs_background": "light"
     },
     "output_type": "display_data"
    }
   ],
   "source": [
    "# ROC: Receiving Operation Curve\n",
    "from sklearn.metrics import roc_curve, auc\n",
    "import matplotlib.pyplot as plt\n",
    "\n",
    "y_score = logmodel.decision_function(x_test)\n",
    "fpr, tpr, _ = roc_curve(y_test, y_score)\n",
    "auc = auc(fpr, tpr)\n",
    "\n",
    "plt.figure()\n",
    "plt.plot(fpr, tpr, lw = 3, label = \"ROC, area = {:0.2f}\".format(auc))\n",
    "plt.legend()"
   ]
  }
 ],
 "metadata": {
  "kernelspec": {
   "display_name": "Python 3",
   "language": "python",
   "name": "python3"
  },
  "language_info": {
   "codemirror_mode": {
    "name": "ipython",
    "version": 3
   },
   "file_extension": ".py",
   "mimetype": "text/x-python",
   "name": "python",
   "nbconvert_exporter": "python",
   "pygments_lexer": "ipython3",
   "version": "3.7.1"
  }
 },
 "nbformat": 4,
 "nbformat_minor": 2
}
